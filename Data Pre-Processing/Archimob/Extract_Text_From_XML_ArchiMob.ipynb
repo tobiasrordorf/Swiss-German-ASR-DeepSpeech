{
 "cells": [
  {
   "cell_type": "markdown",
   "metadata": {},
   "source": [
    "## This file helps retract the transcribed text of archimob audio from xml to txt\n"
   ]
  },
  {
   "cell_type": "markdown",
   "metadata": {},
   "source": [
    "Source: https://www.datacamp.com/community/tutorials/python-xml-elementtree"
   ]
  },
  {
   "cell_type": "code",
   "execution_count": 97,
   "metadata": {},
   "outputs": [],
   "source": [
    "#Import XML Reader\n",
    "import xml.etree.ElementTree as ET\n",
    "import pandas as pd\n",
    "\n",
    "tree = ET.parse('./Test/1007.xml')\n",
    "root = tree.getroot()"
   ]
  },
  {
   "cell_type": "code",
   "execution_count": 157,
   "metadata": {},
   "outputs": [],
   "source": [
    "# {http://www.tei-c.org/ns/1.0}w are the ones that contain the text to be extracted\n",
    "# This extracts the swiss german text that sits inbetween the 'w' tags \n",
    "\n",
    "df = pd.DataFrame()\n",
    "\n",
    "for word in root.iter('{http://www.tei-c.org/ns/1.0}w'):\n",
    "    text_DE = word.attrib['normalised']\n",
    "    text_new_DE = text_DE.split()\n",
    "    text_CH = word.text\n",
    "    text_new_CH = text_CH.split()\n"
   ]
  },
  {
   "cell_type": "code",
   "execution_count": null,
   "metadata": {},
   "outputs": [],
   "source": []
  }
 ],
 "metadata": {
  "kernelspec": {
   "display_name": "Python 3",
   "language": "python",
   "name": "python3"
  },
  "language_info": {
   "codemirror_mode": {
    "name": "ipython",
    "version": 3
   },
   "file_extension": ".py",
   "mimetype": "text/x-python",
   "name": "python",
   "nbconvert_exporter": "python",
   "pygments_lexer": "ipython3",
   "version": "3.7.2"
  }
 },
 "nbformat": 4,
 "nbformat_minor": 2
}
